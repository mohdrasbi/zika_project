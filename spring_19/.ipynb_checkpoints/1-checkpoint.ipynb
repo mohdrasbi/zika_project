{
 "cells": [
  {
   "cell_type": "code",
   "execution_count": 13,
   "metadata": {},
   "outputs": [],
   "source": [
    "import pandas as pd\n",
    "import glob\n",
    "from difflib import SequenceMatcher\n",
    "import time\n",
    "import re"
   ]
  },
  {
   "cell_type": "code",
   "execution_count": 2,
   "metadata": {},
   "outputs": [],
   "source": [
    "path = \"/Users/datacsv/*.csv\"\n",
    "test = \"/Users/datacsv/tweets_2016_09_28.csv\""
   ]
  },
  {
   "cell_type": "markdown",
   "metadata": {},
   "source": [
    "## Helper functions"
   ]
  },
  {
   "cell_type": "code",
   "execution_count": 8,
   "metadata": {},
   "outputs": [],
   "source": [
    "def check_sim(check_word, lang):\n",
    "    words = [\"mosquito\", \"protect\", \"repel\", \"spary\"]\n",
    "    words_es = [\"mosquito\", \"proteger\", \"repeler\", \"rociar\"]\n",
    "    words_pt = [\"mosquito\", \"proteger\", \"repelir\", \"spary\"]\n",
    "    \n",
    "    if lang == \"es\":\n",
    "        words = words_es\n",
    "    elif lang == \"pt\":\n",
    "        words = words_pt\n",
    "    \n",
    "    for word in words:\n",
    "        if SequenceMatcher(None, check_word, word).ratio() >= 0.7:\n",
    "            return True\n",
    "    return False\n",
    "\n",
    "def get_tweets(path, lang):\n",
    "    tweets = []\n",
    "    sims = []\n",
    "    regex = re.compile('[^a-zA-Z]')\n",
    "    for file in glob.glob(path):\n",
    "        df = pd.read_csv(file)\n",
    "        messages = df[df['Language'] == lang]['Message']\n",
    "        \n",
    "        for tweet in messages:\n",
    "            if tweet[0:2] != \"RT\":\n",
    "                for word in tweet.lower().split():\n",
    "                    if check_sim(regex.sub('', word), lang):\n",
    "                        tweets.append(tweet)\n",
    "                        sims.append(regex.sub('', word))\n",
    "                        break\n",
    "    return tweets, sims\n",
    "\n",
    "def addToPrev(prev, index, text):\n",
    "    prev[index] = text\n",
    "    return prev\n",
    "\n",
    "def inPrev(prev, text, tot_sims):\n",
    "    for message in prev:\n",
    "        if SequenceMatcher(None, text, message).ratio() >= 0.7:\n",
    "            tot_sims.setdefault(message, []).append(text)\n",
    "            return True, tot_sims\n",
    "    return False, tot_sims\n",
    "\n",
    "def reduce_tweets(tweets, reduceBy): \n",
    "    prev = [\"\"]*reduceBy\n",
    "    index = 0\n",
    "    tot_sims = {}\n",
    "    filtered_tweets = []\n",
    "    \n",
    "    for _tweet in tweets:\n",
    "        in_prev, tot_sims = inPrev(prev, _tweet, tot_sims)\n",
    "        if not in_prev:\n",
    "            prev = addToPrev(prev, index, _tweet)\n",
    "            index = (index + 1) % reduceBy\n",
    "            filtered_tweets.append(_tweet)\n",
    "    \n",
    "    return filtered_tweets"
   ]
  },
  {
   "cell_type": "markdown",
   "metadata": {},
   "source": [
    "## Reading and storing data"
   ]
  },
  {
   "cell_type": "code",
   "execution_count": 4,
   "metadata": {},
   "outputs": [
    {
     "name": "stderr",
     "output_type": "stream",
     "text": [
      "/anaconda3/lib/python3.6/site-packages/IPython/core/interactiveshell.py:2903: DtypeWarning: Columns (0) have mixed types. Specify dtype option on import or set low_memory=False.\n",
      "  if self.run_code(code, result):\n"
     ]
    }
   ],
   "source": [
    "tweets_es, sims_es = get_tweets(path, \"es\")\n",
    "tweets_pt, sims_pt = get_tweets(path, \"pt\")"
   ]
  },
  {
   "cell_type": "code",
   "execution_count": 5,
   "metadata": {},
   "outputs": [
    {
     "name": "stdout",
     "output_type": "stream",
     "text": [
      "Number of Spanish tweets: 147169\n",
      "Number of Portuguese tweets: 82380\n"
     ]
    }
   ],
   "source": [
    "print(\"Number of Spanish tweets: {}\".format(len(tweets_es)))\n",
    "print(\"Number of Portuguese tweets: {}\".format(len(tweets_pt)))"
   ]
  },
  {
   "cell_type": "code",
   "execution_count": 6,
   "metadata": {},
   "outputs": [],
   "source": [
    "pd.DataFrame({\"tweets\": tweets_es}).to_csv(\"tweets_es.csv\")\n",
    "pd.DataFrame({\"tweets\": tweets_pt}).to_csv(\"tweets_pt.csv\")\n",
    "pd.DataFrame({\"sims\": sims_es}).to_csv(\"sims_es.csv\")\n",
    "pd.DataFrame({\"sims\": sims_pt}).to_csv(\"sims_pt.csv\")"
   ]
  },
  {
   "cell_type": "markdown",
   "metadata": {},
   "source": [
    "## Remove redundancy"
   ]
  },
  {
   "cell_type": "code",
   "execution_count": 9,
   "metadata": {},
   "outputs": [],
   "source": [
    "filtered_tweets_es = reduce_tweets(tweets_es, 10)\n",
    "filtered_tweets_pt = reduce_tweets(tweets_pt, 10)"
   ]
  },
  {
   "cell_type": "code",
   "execution_count": 10,
   "metadata": {},
   "outputs": [
    {
     "name": "stdout",
     "output_type": "stream",
     "text": [
      "Number of tweets after prev 10 algorithm:\n",
      "Spanish: 74332\n",
      "Portuguese: 57448\n"
     ]
    }
   ],
   "source": [
    "print(\"Number of tweets after prev 10 algorithm:\\nSpanish: {}\\nPortuguese: {}\".format(len(filtered_tweets_es), len(filtered_tweets_pt)))\n"
   ]
  },
  {
   "cell_type": "code",
   "execution_count": 11,
   "metadata": {},
   "outputs": [],
   "source": [
    "pd.DataFrame({\"tweets\": filtered_tweets_es}).to_csv(\"filtered_tweets_es.csv\")\n",
    "pd.DataFrame({\"tweets\": filtered_tweets_pt}).to_csv(\"filtered_tweets_pt.csv\")"
   ]
  }
 ],
 "metadata": {
  "kernelspec": {
   "display_name": "Python 3",
   "language": "python",
   "name": "python3"
  },
  "language_info": {
   "codemirror_mode": {
    "name": "ipython",
    "version": 3
   },
   "file_extension": ".py",
   "mimetype": "text/x-python",
   "name": "python",
   "nbconvert_exporter": "python",
   "pygments_lexer": "ipython3",
   "version": "3.6.5"
  }
 },
 "nbformat": 4,
 "nbformat_minor": 2
}
