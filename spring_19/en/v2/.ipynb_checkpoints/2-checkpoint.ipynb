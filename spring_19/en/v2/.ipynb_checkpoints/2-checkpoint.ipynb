{
 "cells": [
  {
   "cell_type": "code",
   "execution_count": 1,
   "metadata": {},
   "outputs": [],
   "source": [
    "import pandas as pd\n",
    "import glob\n",
    "from difflib import SequenceMatcher\n",
    "import re\n",
    "import nltk\n",
    "from nltk.tokenize import word_tokenize\n",
    "import time"
   ]
  },
  {
   "cell_type": "code",
   "execution_count": 2,
   "metadata": {},
   "outputs": [],
   "source": [
    "df = pd.read_csv(\"filtered_tweets.csv\", lineterminator='\\n')"
   ]
  },
  {
   "cell_type": "markdown",
   "metadata": {},
   "source": [
    "## Helper functions"
   ]
  },
  {
   "cell_type": "code",
   "execution_count": 3,
   "metadata": {},
   "outputs": [],
   "source": [
    "def foundPronouns(tweet):\n",
    "    pronouns = ['i', 'me', 'my', 'we', 'us', 'our']\n",
    "    regex = re.compile('[^a-zA-Z]')\n",
    "    \n",
    "    #remove US and U.S.\n",
    "    mod_tweet = tweet.replace(\"US\", \"\")\n",
    "    mod_tweet = mod_tweet.replace(\"U.S.\", \"\")\n",
    "    \n",
    "    mod_tweet = mod_tweet.lower().replace(\"'\", \" \").split()\n",
    "    for word in mod_tweet:\n",
    "        re_word = regex.sub('', word)\n",
    "        if re_word in pronouns:\n",
    "            return True\n",
    "    \n",
    "    return False\n",
    "\n",
    "def POS(tweets, tags):    \n",
    "    tweets_tags = []\n",
    "    \n",
    "    for i in range(len(tweets)):\n",
    "        pos = nltk.pos_tag(word_tokenize(tweets[i]))\n",
    "        first_word_tag = pos[0][1]\n",
    "        \n",
    "        if first_word_tag in tags:\n",
    "            tweets_tags.append(tweets[i])\n",
    "        \n",
    "    return tweets_tags"
   ]
  },
  {
   "cell_type": "markdown",
   "metadata": {},
   "source": [
    "## Find pronouns"
   ]
  },
  {
   "cell_type": "code",
   "execution_count": 4,
   "metadata": {},
   "outputs": [],
   "source": [
    "tweets = list(df['filtered_tweets'])\n",
    "tweets_pronouns = []\n",
    "for tweet in tweets:\n",
    "    if foundPronouns(tweet):\n",
    "        tweets_pronouns.append(tweet)"
   ]
  },
  {
   "cell_type": "code",
   "execution_count": 5,
   "metadata": {},
   "outputs": [],
   "source": [
    "df_pronouns = pd.DataFrame({\"tweets_pronouns\": tweets_pronouns})\n",
    "df_pronouns.to_csv(\"tweets_pronouns.csv\")\n",
    "df_pronouns.sample(100).to_csv(\"samples/tweets_pronouns.csv\")"
   ]
  },
  {
   "cell_type": "code",
   "execution_count": 6,
   "metadata": {},
   "outputs": [
    {
     "name": "stdout",
     "output_type": "stream",
     "text": [
      "33533\n"
     ]
    }
   ],
   "source": [
    "print(len(tweets_pronouns))"
   ]
  },
  {
   "cell_type": "markdown",
   "metadata": {},
   "source": [
    "## Tweets begin with a verb"
   ]
  },
  {
   "cell_type": "code",
   "execution_count": 7,
   "metadata": {},
   "outputs": [
    {
     "name": "stdout",
     "output_type": "stream",
     "text": [
      "Tag: VB\n",
      "Length of tweets_VB: 4122\n",
      "\n",
      "Tag: VBD\n",
      "Length of tweets_VBD: 4299\n",
      "\n",
      "Tag: VBG\n",
      "Length of tweets_VBG: 11415\n",
      "\n",
      "Tag: VBN\n",
      "Length of tweets_VBN: 6589\n",
      "\n",
      "Tag: VBP\n",
      "Length of tweets_VBP: 4781\n",
      "\n",
      "Tag: VBZ\n",
      "Length of tweets_VBZ: 5185\n",
      "\n"
     ]
    }
   ],
   "source": [
    "tags = ['VB', 'VBD', 'VBG', 'VBN', 'VBP', 'VBZ']\n",
    "tweets_tags = {}\n",
    "for tag in tags:\n",
    "    print(\"Tag: {}\".format(tag))\n",
    "    tweets_tags[\"tweets_{}\".format(tag)] = POS(tweets, tag)\n",
    "    print(\"Length of tweets_{}: {}\\n\".format(tag, len(tweets_tags[\"tweets_{}\".format(tag)])))"
   ]
  },
  {
   "cell_type": "code",
   "execution_count": 8,
   "metadata": {},
   "outputs": [],
   "source": [
    "for i in tweets_tags:\n",
    "    temp = pd.DataFrame({i: tweets_tags[i]})\n",
    "    temp.to_csv(\"{}.csv\".format(i))\n",
    "    try:\n",
    "        temp.sample(100).to_csv(\"samples/{}.csv\".format(i))\n",
    "    except:\n",
    "        temp.to_csv(\"samples/{}.csv\".format(i))\n",
    "    "
   ]
  },
  {
   "cell_type": "code",
   "execution_count": 9,
   "metadata": {},
   "outputs": [
    {
     "name": "stdout",
     "output_type": "stream",
     "text": [
      "tweets_VB 4122\n",
      "tweets_VBD 4299\n",
      "tweets_VBG 11415\n",
      "tweets_VBN 6589\n",
      "tweets_VBP 4781\n",
      "tweets_VBZ 5185\n"
     ]
    },
    {
     "data": {
      "text/plain": [
       "36391"
      ]
     },
     "execution_count": 9,
     "metadata": {},
     "output_type": "execute_result"
    }
   ],
   "source": [
    "s = 0\n",
    "for i in tweets_tags:\n",
    "    print(i, len(tweets_tags[i]))\n",
    "    s += len(tweets_tags[i])\n",
    "s"
   ]
  },
  {
   "cell_type": "markdown",
   "metadata": {},
   "source": [
    "__NOTES (conclusions)__\n",
    "1. Removed US and U.S. from all tweets before finding pronouns\n",
    "2. Replaced apostrophe(') with space so I can detect pronouns in situations like: I'm, we're, etc.\n",
    "3. Found tweets that begin with a verb. There are 6 tags for verbs in nltk. Some words can have multiple tags."
   ]
  }
 ],
 "metadata": {
  "kernelspec": {
   "display_name": "Python 3",
   "language": "python",
   "name": "python3"
  },
  "language_info": {
   "codemirror_mode": {
    "name": "ipython",
    "version": 3
   },
   "file_extension": ".py",
   "mimetype": "text/x-python",
   "name": "python",
   "nbconvert_exporter": "python",
   "pygments_lexer": "ipython3",
   "version": "3.6.5"
  }
 },
 "nbformat": 4,
 "nbformat_minor": 2
}
