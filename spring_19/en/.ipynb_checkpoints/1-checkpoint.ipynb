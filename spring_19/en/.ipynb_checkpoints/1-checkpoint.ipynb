{
 "cells": [
  {
   "cell_type": "code",
   "execution_count": null,
   "metadata": {},
   "outputs": [],
   "source": [
    "import pandas as pd\n",
    "import glob\n",
    "from difflib import SequenceMatcher\n",
    "import re"
   ]
  },
  {
   "cell_type": "markdown",
   "metadata": {},
   "source": [
    "# Helper functions"
   ]
  },
  {
   "cell_type": "code",
   "execution_count": null,
   "metadata": {},
   "outputs": [],
   "source": [
    "def addToPrev(prev, index, text):\n",
    "    prev[index] = text\n",
    "    return prev\n",
    "\n",
    "def inPrev(prev, text, tot_sims):\n",
    "    for message in prev:\n",
    "        if SequenceMatcher(None, text, message).ratio() >= 0.7:\n",
    "            tot_sims.setdefault(message, []).append(text)\n",
    "            return True, tot_sims\n",
    "    return False, tot_sims\n",
    "\n",
    "def reduce_tweets(tweets, reduceBy): \n",
    "    prev = [\"\"]*reduceBy\n",
    "    index = 0\n",
    "    tot_sims = {}\n",
    "    filtered_tweets = []\n",
    "    \n",
    "    for _tweet in tweets:\n",
    "        in_prev, tot_sims = inPrev(prev, _tweet, tot_sims)\n",
    "        if not in_prev:\n",
    "            prev = addToPrev(prev, index, _tweet)\n",
    "            index = (index + 1) % reduceBy\n",
    "            filtered_tweets.append(_tweet)\n",
    "    \n",
    "    return filtered_tweets\n",
    "\n",
    "def check_sim(check_word, sims):\n",
    "    words = [\"mosquito\", \"protect\", \"repel\", \"spray\"]\n",
    "    for word in words:\n",
    "        ratio = SequenceMatcher(None, check_word, word).ratio()\n",
    "        if ratio >= 0.7:\n",
    "            sims[check_word] = ratio\n",
    "            return True, sims\n",
    "    return False, sims"
   ]
  },
  {
   "cell_type": "markdown",
   "metadata": {},
   "source": [
    "# Store Tweets"
   ]
  },
  {
   "cell_type": "code",
   "execution_count": null,
   "metadata": {},
   "outputs": [],
   "source": [
    "path = \"/Users/datacsv/*.csv\""
   ]
  },
  {
   "cell_type": "code",
   "execution_count": null,
   "metadata": {},
   "outputs": [],
   "source": [
    "tweets = []\n",
    "regex = re.compile('[^a-zA-Z]')\n",
    "sims = {}\n",
    "for file in glob.glob(path):\n",
    "    df = pd.read_csv(file, sep=',', usecols=['Message', 'Language'])\n",
    "    df_tweets = df[df[\"Language\"] == \"en\"][\"Message\"]\n",
    "\n",
    "    for _tweet in df_tweets:\n",
    "        if _tweet[0:2] != \"RT\":\n",
    "            for word in _tweet.lower().split():\n",
    "                isSimilar, sims = check_sim(regex.sub('', word), sims)\n",
    "                if(isSimilar):\n",
    "                    tweets.append(_tweet)\n",
    "                    break"
   ]
  },
  {
   "cell_type": "code",
   "execution_count": null,
   "metadata": {
    "scrolled": false
   },
   "outputs": [],
   "source": [
    "print(\"Number of tweets that contain mosquito or a similar word is: {}\".format(len(tweets)))\n",
    "#357052"
   ]
  },
  {
   "cell_type": "code",
   "execution_count": null,
   "metadata": {},
   "outputs": [],
   "source": [
    "pd.DataFrame({\"tweets\": tweets}).to_csv(\"all_tweets.csv\")"
   ]
  },
  {
   "cell_type": "markdown",
   "metadata": {},
   "source": [
    "### Reduce Redundancy"
   ]
  },
  {
   "cell_type": "code",
   "execution_count": null,
   "metadata": {},
   "outputs": [],
   "source": [
    "filtered_tweets = reduce_tweets(tweets, 10)\n",
    "print(\"Number of tweets after prev 10 algorithm: {}\".format(len(filtered_tweets)))\n"
   ]
  },
  {
   "cell_type": "code",
   "execution_count": null,
   "metadata": {},
   "outputs": [],
   "source": [
    "pd.DataFrame({\"filtered_tweets\": filtered_tweets}).to_csv(\"filtered_tweets.csv\")\n"
   ]
  },
  {
   "cell_type": "markdown",
   "metadata": {},
   "source": [
    "### Sims"
   ]
  },
  {
   "cell_type": "code",
   "execution_count": null,
   "metadata": {},
   "outputs": [],
   "source": [
    "keys = sorted(sims, key=sims.get)\n",
    "keys.reverse()\n",
    "values = []\n",
    "for i in keys:\n",
    "    values.append(sims[i])"
   ]
  },
  {
   "cell_type": "code",
   "execution_count": null,
   "metadata": {},
   "outputs": [],
   "source": [
    "pd.DataFrame({\"keys\": keys, \"values\": values}).to_csv(\"sims.csv\")"
   ]
  }
 ],
 "metadata": {
  "kernelspec": {
   "display_name": "Python 3",
   "language": "python",
   "name": "python3"
  },
  "language_info": {
   "codemirror_mode": {
    "name": "ipython",
    "version": 3
   },
   "file_extension": ".py",
   "mimetype": "text/x-python",
   "name": "python",
   "nbconvert_exporter": "python",
   "pygments_lexer": "ipython3",
   "version": "3.6.5"
  }
 },
 "nbformat": 4,
 "nbformat_minor": 2
}
