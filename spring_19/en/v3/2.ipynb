{
 "cells": [
  {
   "cell_type": "code",
   "execution_count": 1,
   "metadata": {},
   "outputs": [],
   "source": [
    "import pandas as pd\n",
    "import glob\n",
    "from difflib import SequenceMatcher\n",
    "import re\n",
    "import nltk\n",
    "from nltk.tokenize import word_tokenize\n",
    "import time"
   ]
  },
  {
   "cell_type": "code",
   "execution_count": 2,
   "metadata": {},
   "outputs": [],
   "source": [
    "df = pd.read_csv(\"filtered_tweets.csv\", lineterminator='\\n')"
   ]
  },
  {
   "cell_type": "markdown",
   "metadata": {},
   "source": [
    "## Helper functions"
   ]
  },
  {
   "cell_type": "code",
   "execution_count": 16,
   "metadata": {},
   "outputs": [],
   "source": [
    "def foundPronouns(tweet):\n",
    "    pronouns = ['i', 'me', 'my', 'we', 'us', 'our']\n",
    "    regex = re.compile('[^a-zA-Z]')\n",
    "    \n",
    "    #remove US and U.S.\n",
    "    mod_tweet = tweet.replace(\"US\", \"\")\n",
    "    mod_tweet = mod_tweet.replace(\"U.S.\", \"\")\n",
    "    \n",
    "    mod_tweet = mod_tweet.lower().replace(\"'\", \" \").split()\n",
    "    for word in mod_tweet:\n",
    "        re_word = regex.sub('', word)\n",
    "        if re_word in pronouns:\n",
    "            return True\n",
    "    \n",
    "    return False\n",
    "\n",
    "def POS(tweets, tweets_ids, tags):    \n",
    "    tweets_tags = []\n",
    "    tweets_tags_ids = []\n",
    "    \n",
    "    for i in range(len(tweets)):\n",
    "        pos = nltk.pos_tag(word_tokenize(tweets[i]))\n",
    "        first_word_tag = pos[0][1]\n",
    "        \n",
    "        if first_word_tag in tags:\n",
    "            tweets_tags.append(tweets[i])\n",
    "            tweets_tags_ids.append(tweets_ids[i])\n",
    "        \n",
    "    return tweets_tags, tweets_tags_ids"
   ]
  },
  {
   "cell_type": "markdown",
   "metadata": {},
   "source": [
    "## Find pronouns"
   ]
  },
  {
   "cell_type": "code",
   "execution_count": 6,
   "metadata": {},
   "outputs": [],
   "source": [
    "tweets = list(df['filtered_tweets'])\n",
    "tweets_ids = list(df['filtered_tweets_ids'])\n",
    "tweets_pronouns = []\n",
    "tweets_ids_pronouns = []\n",
    "for i in range(len(tweets)):\n",
    "    if foundPronouns(tweets[i]):\n",
    "        tweets_pronouns.append(tweets[i])\n",
    "        tweets_ids_pronouns.append(tweets_ids[i])"
   ]
  },
  {
   "cell_type": "code",
   "execution_count": 7,
   "metadata": {},
   "outputs": [],
   "source": [
    "df_pronouns = pd.DataFrame({\"id\": tweets_ids_pronouns, \"tweet\": tweets_pronouns})\n",
    "df_pronouns.to_csv(\"tweets_pronouns.csv\")"
   ]
  },
  {
   "cell_type": "code",
   "execution_count": 8,
   "metadata": {},
   "outputs": [
    {
     "name": "stdout",
     "output_type": "stream",
     "text": [
      "33533\n"
     ]
    }
   ],
   "source": [
    "print(len(tweets_pronouns))"
   ]
  },
  {
   "cell_type": "markdown",
   "metadata": {},
   "source": [
    "## Tweets begin with a verb"
   ]
  },
  {
   "cell_type": "code",
   "execution_count": 17,
   "metadata": {},
   "outputs": [
    {
     "name": "stdout",
     "output_type": "stream",
     "text": [
      "Tag: VB\n",
      "Length of tweets_VB: 2\n",
      "\n",
      "Tag: VBD\n",
      "Length of tweets_VBD: 2\n",
      "\n",
      "Tag: VBG\n",
      "Length of tweets_VBG: 2\n",
      "\n",
      "Tag: VBN\n",
      "Length of tweets_VBN: 2\n",
      "\n",
      "Tag: VBP\n",
      "Length of tweets_VBP: 2\n",
      "\n",
      "Tag: VBZ\n",
      "Length of tweets_VBZ: 2\n",
      "\n"
     ]
    }
   ],
   "source": [
    "tags = ['VB', 'VBD', 'VBG', 'VBN', 'VBP', 'VBZ']\n",
    "tweets_tags = {}\n",
    "for tag in tags:\n",
    "    print(\"Tag: {}\".format(tag))\n",
    "    tweets_tags[\"tweets_{}\".format(tag)] = {}\n",
    "    tweets_tags[\"tweets_{}\".format(tag)][\"tweets\"], tweets_tags[\"tweets_{}\".format(tag)][\"ids\"] = POS(tweets, tweets_ids, tag)\n",
    "    "
   ]
  },
  {
   "cell_type": "code",
   "execution_count": 23,
   "metadata": {},
   "outputs": [],
   "source": [
    "for i in tweets_tags:\n",
    "    tweets = tweets_tags[i]['tweets']\n",
    "    ids = tweets_tags[i]['ids']\n",
    "    temp = pd.DataFrame({'id': ids, 'tweet': tweets})\n",
    "    temp.to_csv(\"{}.csv\".format(i))\n",
    "    "
   ]
  }
 ],
 "metadata": {
  "kernelspec": {
   "display_name": "Python 3",
   "language": "python",
   "name": "python3"
  },
  "language_info": {
   "codemirror_mode": {
    "name": "ipython",
    "version": 3
   },
   "file_extension": ".py",
   "mimetype": "text/x-python",
   "name": "python",
   "nbconvert_exporter": "python",
   "pygments_lexer": "ipython3",
   "version": "3.7.2"
  }
 },
 "nbformat": 4,
 "nbformat_minor": 2
}
