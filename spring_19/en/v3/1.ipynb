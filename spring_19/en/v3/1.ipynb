{
 "cells": [
  {
   "cell_type": "code",
   "execution_count": 1,
   "metadata": {},
   "outputs": [],
   "source": [
    "import pandas as pd\n",
    "import glob\n",
    "from difflib import SequenceMatcher\n",
    "import re"
   ]
  },
  {
   "cell_type": "markdown",
   "metadata": {},
   "source": [
    "# Helper functions"
   ]
  },
  {
   "cell_type": "code",
   "execution_count": 19,
   "metadata": {},
   "outputs": [],
   "source": [
    "def addToPrev(prev, index, text):\n",
    "    prev[index] = text\n",
    "    return prev\n",
    "\n",
    "################################\n",
    "\n",
    "def inPrev(prev, text, tot_sims):\n",
    "    for message in prev:\n",
    "        if SequenceMatcher(None, text, message).ratio() >= 0.7:\n",
    "            tot_sims.setdefault(message, []).append(text)\n",
    "            return True, tot_sims\n",
    "    return False, tot_sims\n",
    "\n",
    "################################\n",
    "\n",
    "def reduce_tweets(tweets, tweets_ids, reduceBy): \n",
    "    prev = [\"\"]*reduceBy\n",
    "    index = 0\n",
    "    tot_sims = {}\n",
    "    filtered_tweets = []\n",
    "    filtered_tweets_ids = []\n",
    "    \n",
    "    for i in range(len(tweets)):\n",
    "        in_prev, tot_sims = inPrev(prev, tweets[i], tot_sims)\n",
    "        if not in_prev:\n",
    "            prev = addToPrev(prev, index, tweets[i])\n",
    "            index = (index + 1) % reduceBy\n",
    "            filtered_tweets.append(tweets[i])\n",
    "            filtered_tweets_ids.append(tweets_ids[i])\n",
    "    \n",
    "    return filtered_tweets, filtered_tweets_ids\n",
    "\n",
    "################################\n",
    "\n",
    "def check_sim(check_word, sims):\n",
    "    words = [\"mosquito\", \"protect\", \"repel\", \"spray\"]\n",
    "    for word in words:\n",
    "        ratio = SequenceMatcher(None, check_word, word).ratio()\n",
    "        if ratio >= 0.7:\n",
    "            sims[check_word] = ratio\n",
    "            return True, sims\n",
    "    return False, sims\n",
    "\n",
    "################################\n",
    "\n",
    "def check_sim_v2(check_word, sims):\n",
    "    if re.compile('m[a-z]+sq[a-z]+to').match(check_word):\n",
    "        sims.append(check_word)\n",
    "        return True, sims\n",
    "    \n",
    "    for word in ['repel', 'protect', 'spray']:\n",
    "        if re.compile(word).search(check_word):\n",
    "            sims.append(check_word)\n",
    "            return True, sims\n",
    "    \n",
    "    return False, sims"
   ]
  },
  {
   "cell_type": "markdown",
   "metadata": {},
   "source": [
    "# Store Tweets"
   ]
  },
  {
   "cell_type": "code",
   "execution_count": 3,
   "metadata": {},
   "outputs": [],
   "source": [
    "path = \"/Users/datacsv/*.csv\""
   ]
  },
  {
   "cell_type": "code",
   "execution_count": 5,
   "metadata": {},
   "outputs": [],
   "source": [
    "df = pd.read_csv(\"/Users/datacsv/tweets_2015_08_20.csv\")"
   ]
  },
  {
   "cell_type": "code",
   "execution_count": 6,
   "metadata": {},
   "outputs": [
    {
     "data": {
      "text/html": [
       "<div>\n",
       "<style scoped>\n",
       "    .dataframe tbody tr th:only-of-type {\n",
       "        vertical-align: middle;\n",
       "    }\n",
       "\n",
       "    .dataframe tbody tr th {\n",
       "        vertical-align: top;\n",
       "    }\n",
       "\n",
       "    .dataframe thead th {\n",
       "        text-align: right;\n",
       "    }\n",
       "</style>\n",
       "<table border=\"1\" class=\"dataframe\">\n",
       "  <thead>\n",
       "    <tr style=\"text-align: right;\">\n",
       "      <th></th>\n",
       "      <th>Tweet_ID</th>\n",
       "      <th>Message</th>\n",
       "    </tr>\n",
       "  </thead>\n",
       "  <tbody>\n",
       "    <tr>\n",
       "      <th>4</th>\n",
       "      <td>634152976479862788</td>\n",
       "      <td>MEU DEUS AFASTA ESSA ZICA</td>\n",
       "    </tr>\n",
       "    <tr>\n",
       "      <th>10</th>\n",
       "      <td>634153565460652032</td>\n",
       "      <td>ESSA ZICA EU SABIA QUE IA ACABAR HOJE</td>\n",
       "    </tr>\n",
       "    <tr>\n",
       "      <th>48</th>\n",
       "      <td>634155015901454336</td>\n",
       "      <td>@rodrigo_schndr  &amp;gt; Cover me!  &amp;gt; Roger Th...</td>\n",
       "    </tr>\n",
       "    <tr>\n",
       "      <th>65</th>\n",
       "      <td>634155949603835905</td>\n",
       "      <td>ZICA</td>\n",
       "    </tr>\n",
       "    <tr>\n",
       "      <th>87</th>\n",
       "      <td>634156157372862465</td>\n",
       "      <td>SAI ZICA PORRA</td>\n",
       "    </tr>\n",
       "  </tbody>\n",
       "</table>\n",
       "</div>"
      ],
      "text/plain": [
       "              Tweet_ID                                            Message\n",
       "4   634152976479862788                          MEU DEUS AFASTA ESSA ZICA\n",
       "10  634153565460652032              ESSA ZICA EU SABIA QUE IA ACABAR HOJE\n",
       "48  634155015901454336  @rodrigo_schndr  &gt; Cover me!  &gt; Roger Th...\n",
       "65  634155949603835905                                               ZICA\n",
       "87  634156157372862465                                     SAI ZICA PORRA"
      ]
     },
     "execution_count": 6,
     "metadata": {},
     "output_type": "execute_result"
    }
   ],
   "source": [
    "test = df[df[\"Language\"] == \"en\"][['Tweet_ID', 'Message']]\n",
    "test.head()"
   ]
  },
  {
   "cell_type": "code",
   "execution_count": 7,
   "metadata": {},
   "outputs": [],
   "source": [
    "tweets = test[\"Message\"]\n",
    "ids = test[\"Tweet_ID\"]"
   ]
  },
  {
   "cell_type": "code",
   "execution_count": 13,
   "metadata": {},
   "outputs": [
    {
     "data": {
      "text/plain": [
       "Tweet_ID                     634185437964279808\n",
       "Message     RT @sccpdiniz: SAI ZICA DO CARALHO!\n",
       "Name: 1219, dtype: object"
      ]
     },
     "execution_count": 13,
     "metadata": {},
     "output_type": "execute_result"
    }
   ],
   "source": [
    "test.iloc[87]"
   ]
  },
  {
   "cell_type": "code",
   "execution_count": 14,
   "metadata": {},
   "outputs": [
    {
     "name": "stderr",
     "output_type": "stream",
     "text": [
      "/Library/Frameworks/Python.framework/Versions/3.7/lib/python3.7/site-packages/IPython/core/interactiveshell.py:2785: DtypeWarning: Columns (0) have mixed types. Specify dtype option on import or set low_memory=False.\n",
      "  interactivity=interactivity, compiler=compiler, result=result)\n"
     ]
    }
   ],
   "source": [
    "tweets = []\n",
    "tweets_ids = []\n",
    "regex = re.compile('[^a-zA-Z]')\n",
    "sims = []\n",
    "for file in glob.glob(path):\n",
    "    df = pd.read_csv(file, sep=',', usecols=['Tweet_ID', 'Message', 'Language'])\n",
    "    df_tweets = df[df[\"Language\"] == \"en\"][['Tweet_ID', 'Message']]\n",
    "    \n",
    "    for i in df_tweets.index:\n",
    "        tweet = df_tweets.loc[i][\"Message\"]\n",
    "        if tweet[0:2] != \"RT\":\n",
    "            for word in tweet.lower().split():\n",
    "                isSimilar, sims = check_sim_v2(regex.sub('', word), sims)\n",
    "                if(isSimilar):\n",
    "                    tweets.append(tweet)\n",
    "                    tweets_ids.append(df_tweets.loc[i][\"Tweet_ID\"])\n",
    "                    break\n",
    "                    \n",
    "                    "
   ]
  },
  {
   "cell_type": "code",
   "execution_count": 15,
   "metadata": {
    "scrolled": false
   },
   "outputs": [
    {
     "name": "stdout",
     "output_type": "stream",
     "text": [
      "Number of tweets that contain mosquito or a similar word is: 454661\n"
     ]
    }
   ],
   "source": [
    "print(\"Number of tweets that contain mosquito or a similar word is: {}\".format(len(tweets)))\n",
    "#357052"
   ]
  },
  {
   "cell_type": "code",
   "execution_count": 16,
   "metadata": {},
   "outputs": [],
   "source": [
    "pd.DataFrame({\"tweet_id\": tweets_ids, \"tweet\": tweets}).to_csv(\"all_tweets.csv\")"
   ]
  },
  {
   "cell_type": "markdown",
   "metadata": {},
   "source": [
    "### Remove redundant tweets"
   ]
  },
  {
   "cell_type": "code",
   "execution_count": 20,
   "metadata": {},
   "outputs": [
    {
     "name": "stdout",
     "output_type": "stream",
     "text": [
      "Number of tweets after prev 10 algorithm: 260654\n"
     ]
    }
   ],
   "source": [
    "filtered_tweets, filtered_tweets_ids = reduce_tweets(tweets, tweets_ids, 10)\n",
    "print(\"Number of tweets after prev 10 algorithm: {}\".format(len(filtered_tweets)))\n"
   ]
  },
  {
   "cell_type": "code",
   "execution_count": 21,
   "metadata": {},
   "outputs": [],
   "source": [
    "pd.DataFrame({\"filtered_tweets_ids\": filtered_tweets_ids, \"filtered_tweets\": filtered_tweets}).to_csv(\"filtered_tweets.csv\")\n"
   ]
  },
  {
   "cell_type": "markdown",
   "metadata": {},
   "source": [
    "### Sims"
   ]
  },
  {
   "cell_type": "code",
   "execution_count": 22,
   "metadata": {},
   "outputs": [],
   "source": [
    "pd.DataFrame({\"sims\": list(set(sims))}).to_csv(\"sims.csv\")"
   ]
  }
 ],
 "metadata": {
  "kernelspec": {
   "display_name": "Python 3",
   "language": "python",
   "name": "python3"
  },
  "language_info": {
   "codemirror_mode": {
    "name": "ipython",
    "version": 3
   },
   "file_extension": ".py",
   "mimetype": "text/x-python",
   "name": "python",
   "nbconvert_exporter": "python",
   "pygments_lexer": "ipython3",
   "version": "3.7.2"
  }
 },
 "nbformat": 4,
 "nbformat_minor": 2
}
