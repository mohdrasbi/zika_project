{
 "cells": [
  {
   "cell_type": "code",
   "execution_count": 52,
   "metadata": {},
   "outputs": [],
   "source": [
    "import pandas as pd\n",
    "import numpy as np\n",
    "import glob\n",
    "import re"
   ]
  },
  {
   "cell_type": "code",
   "execution_count": 58,
   "metadata": {},
   "outputs": [],
   "source": [
    "def check_sim_v2(check_word, sims):\n",
    "    if re.compile('m[a-z]+sq[a-z]+to').match(check_word):\n",
    "        sims.append(check_word)\n",
    "        return True, sims\n",
    "    \n",
    "    words = ['repel', 'protect', 'spray', \n",
    "             \"proteger\", \"repeler\", \"rociar\",\"repelir\"]\n",
    "\n",
    "    for word in words:\n",
    "        if re.compile(word).search(check_word):\n",
    "            sims.append(check_word)\n",
    "            return True, sims\n",
    "    \n",
    "    return False, sims"
   ]
  },
  {
   "cell_type": "code",
   "execution_count": 92,
   "metadata": {},
   "outputs": [],
   "source": [
    "file = \"/Users/datacsv/tweets_2016_02_08.csv\""
   ]
  },
  {
   "cell_type": "code",
   "execution_count": null,
   "metadata": {},
   "outputs": [],
   "source": [
    "temp_df = pd.read_csv(\"/Users/datacsv/tweets_2015_08_16.csv\")\n",
    "filtered_df = pd.DataFrame(columns=temp_df.columns)\n",
    "data = {}\n",
    "regex = re.compile('[^a-zA-Z]')\n",
    "index = 0\n",
    "sims = []\n",
    "\n",
    "df = pd.read_csv(file)\n",
    "df[df == \"None\"] = np.nan\n",
    "df = df.dropna(subset=[\"City\", \"State\", \"Country\"], how='all')\n",
    "df = df.fillna(\"\")\n",
    "\n",
    "\n",
    "#Find number of total tweets in a location\n",
    "group_sums = df.groupby([\"City\", \"State\", \"Country\"])[\"Message\"].agg(np.size)\n",
    "\n",
    "\n",
    "cities = group_sums.index.get_level_values(0)\n",
    "states = group_sums.index.get_level_values(1)\n",
    "countries = group_sums.index.get_level_values(2)\n",
    "\n",
    "for city, state, country in zip(cities, states, countries):\n",
    "    location = (city, state, country)\n",
    "    data[location] = data.get(location, {})\n",
    "    data[location]['num_total'] = data[location].get('num_total', 0)\n",
    "    data[location]['num_total'] += group_sums.loc[city, state, country]\n",
    "\n",
    "#Filter tweets, then store in filtered_df\n",
    "for i in df.index:\n",
    "    tweet = df.loc[i][\"Message\"]\n",
    "    if tweet[0:2] != \"RT\":\n",
    "        for word in tweet.lower().split():\n",
    "                isSimilar, sims = check_sim_v2(regex.sub('', word), sims)\n",
    "                if(isSimilar):\n",
    "                    filtered_df.loc[index] = df.loc[i]\n",
    "                    index += 1\n",
    "                    break\n",
    "                    "
   ]
  },
  {
   "cell_type": "code",
   "execution_count": null,
   "metadata": {},
   "outputs": [],
   "source": [
    "group_sums = filtered_df.groupby([\"City\", \"State\", \"Country\"])[\"Message\"].agg(np.size)\n",
    "cities = group_sums.index.get_level_values(0)\n",
    "states = group_sums.index.get_level_values(1)\n",
    "countries = group_sums.index.get_level_values(2)\n",
    "\n",
    "for city, state, country in zip(cities, states, countries):\n",
    "    location = (city, state, country)\n",
    "    data[location] = data.get(location, {})\n",
    "    data[location]['filtered_total'] = data[location].get('filtered_total', 0)\n",
    "    data[location]['filtered_total'] += group_sums.loc[city, state, country]\n",
    "    "
   ]
  },
  {
   "cell_type": "code",
   "execution_count": null,
   "metadata": {},
   "outputs": [],
   "source": [
    "final_df = pd.DataFrame(columns=['city', 'state', 'country', 'total_tweets', \n",
    "                                 'filtered_tweets', 'percentage'])\n",
    "index = 0\n",
    "for col in data:\n",
    "    try:\n",
    "        total_tweets = data[col]['num_total']\n",
    "    except KeyError:\n",
    "        continue\n",
    "        \n",
    "    try:\n",
    "        filtered_tweets = data[col]['filtered_total']\n",
    "    except KeyError:\n",
    "        filtered_tweets = 0\n",
    "        \n",
    "    percentage = filtered_tweets/total_tweets * 100\n",
    "    final_df.loc[index] = [col[0], col[1], col[2], total_tweets, filtered_tweets,\n",
    "                          percentage]\n",
    "    index += 1\n",
    "    "
   ]
  },
  {
   "cell_type": "code",
   "execution_count": null,
   "metadata": {},
   "outputs": [],
   "source": [
    "final_df[final_df['percentage'] > 100]"
   ]
  },
  {
   "cell_type": "code",
   "execution_count": null,
   "metadata": {},
   "outputs": [],
   "source": [
    "df[df['City'] == 'Antioch']"
   ]
  },
  {
   "cell_type": "code",
   "execution_count": null,
   "metadata": {},
   "outputs": [],
   "source": [
    "filtered_df[filtered_df['City'] == 'Antioch']"
   ]
  },
  {
   "cell_type": "code",
   "execution_count": null,
   "metadata": {},
   "outputs": [],
   "source": []
  }
 ],
 "metadata": {
  "kernelspec": {
   "display_name": "Python 3",
   "language": "python",
   "name": "python3"
  },
  "language_info": {
   "codemirror_mode": {
    "name": "ipython",
    "version": 3
   },
   "file_extension": ".py",
   "mimetype": "text/x-python",
   "name": "python",
   "nbconvert_exporter": "python",
   "pygments_lexer": "ipython3",
   "version": "3.7.2"
  }
 },
 "nbformat": 4,
 "nbformat_minor": 2
}
