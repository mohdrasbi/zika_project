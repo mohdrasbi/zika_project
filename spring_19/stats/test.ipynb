{
 "cells": [
  {
   "cell_type": "code",
   "execution_count": 52,
   "metadata": {},
   "outputs": [],
   "source": [
    "import pandas as pd\n",
    "import numpy as np\n",
    "import glob\n",
    "import re"
   ]
  },
  {
   "cell_type": "code",
   "execution_count": 58,
   "metadata": {},
   "outputs": [],
   "source": [
    "def check_sim_v2(check_word, sims):\n",
    "    if re.compile('m[a-z]+sq[a-z]+to').match(check_word):\n",
    "        sims.append(check_word)\n",
    "        return True, sims\n",
    "    \n",
    "    words = ['repel', 'protect', 'spray', \n",
    "             \"proteger\", \"repeler\", \"rociar\",\"repelir\"]\n",
    "\n",
    "    for word in words:\n",
    "        if re.compile(word).search(check_word):\n",
    "            sims.append(check_word)\n",
    "            return True, sims\n",
    "    \n",
    "    return False, sims"
   ]
  },
  {
   "cell_type": "code",
   "execution_count": 92,
   "metadata": {},
   "outputs": [],
   "source": [
    "file = \"/Users/datacsv/tweets_2016_02_08.csv\""
   ]
  },
  {
   "cell_type": "code",
   "execution_count": 113,
   "metadata": {},
   "outputs": [],
   "source": [
    "temp_df = pd.read_csv(\"/Users/datacsv/tweets_2015_08_16.csv\")\n",
    "filtered_df = pd.DataFrame(columns=temp_df.columns)\n",
    "data = {}\n",
    "regex = re.compile('[^a-zA-Z]')\n",
    "index = 0\n",
    "sims = []\n",
    "\n",
    "df = pd.read_csv(file)\n",
    "df[df == \"None\"] = np.nan\n",
    "df = df.dropna(subset=[\"City\", \"State\", \"Country\"], how='all')\n",
    "df = df.fillna(\"\")\n",
    "\n",
    "\n",
    "#Find number of total tweets in a location\n",
    "group_sums = df.groupby([\"City\", \"State\", \"Country\"])[\"Message\"].agg(np.size)\n",
    "\n",
    "\n",
    "cities = group_sums.index.get_level_values(0)\n",
    "states = group_sums.index.get_level_values(1)\n",
    "countries = group_sums.index.get_level_values(2)\n",
    "\n",
    "for city, state, country in zip(cities, states, countries):\n",
    "    location = (city, state, country)\n",
    "    data[location] = data.get(location, {})\n",
    "    data[location]['num_total'] = data[location].get('num_total', 0)\n",
    "    data[location]['num_total'] += group_sums.loc[city, state, country]\n",
    "\n",
    "#Filter tweets, then store in filtered_df\n",
    "for i in df.index:\n",
    "    tweet = df.loc[i][\"Message\"]\n",
    "    if tweet[0:2] != \"RT\":\n",
    "        for word in tweet.lower().split():\n",
    "                isSimilar, sims = check_sim_v2(regex.sub('', word), sims)\n",
    "                if(isSimilar):\n",
    "                    filtered_df.loc[index] = df.loc[i]\n",
    "                    index += 1\n",
    "                    break\n",
    "                    "
   ]
  },
  {
   "cell_type": "code",
   "execution_count": 114,
   "metadata": {},
   "outputs": [],
   "source": [
    "group_sums = filtered_df.groupby([\"City\", \"State\", \"Country\"])[\"Message\"].agg(np.size)\n",
    "cities = group_sums.index.get_level_values(0)\n",
    "states = group_sums.index.get_level_values(1)\n",
    "countries = group_sums.index.get_level_values(2)\n",
    "\n",
    "for city, state, country in zip(cities, states, countries):\n",
    "    location = (city, state, country)\n",
    "    data[location] = data.get(location, {})\n",
    "    data[location]['filtered_total'] = data[location].get('filtered_total', 0)\n",
    "    data[location]['filtered_total'] += group_sums.loc[city, state, country]\n",
    "    "
   ]
  },
  {
   "cell_type": "code",
   "execution_count": 115,
   "metadata": {},
   "outputs": [],
   "source": [
    "final_df = pd.DataFrame(columns=['city', 'state', 'country', 'total_tweets', \n",
    "                                 'filtered_tweets', 'percentage'])\n",
    "index = 0\n",
    "for col in data:\n",
    "    try:\n",
    "        total_tweets = data[col]['num_total']\n",
    "    except KeyError:\n",
    "        continue\n",
    "        \n",
    "    try:\n",
    "        filtered_tweets = data[col]['filtered_total']\n",
    "    except KeyError:\n",
    "        filtered_tweets = 0\n",
    "        \n",
    "    percentage = filtered_tweets/total_tweets * 100\n",
    "    final_df.loc[index] = [col[0], col[1], col[2], total_tweets, filtered_tweets,\n",
    "                          percentage]\n",
    "    index += 1\n",
    "    "
   ]
  },
  {
   "cell_type": "code",
   "execution_count": 116,
   "metadata": {},
   "outputs": [
    {
     "data": {
      "text/html": [
       "<div>\n",
       "<style scoped>\n",
       "    .dataframe tbody tr th:only-of-type {\n",
       "        vertical-align: middle;\n",
       "    }\n",
       "\n",
       "    .dataframe tbody tr th {\n",
       "        vertical-align: top;\n",
       "    }\n",
       "\n",
       "    .dataframe thead th {\n",
       "        text-align: right;\n",
       "    }\n",
       "</style>\n",
       "<table border=\"1\" class=\"dataframe\">\n",
       "  <thead>\n",
       "    <tr style=\"text-align: right;\">\n",
       "      <th></th>\n",
       "      <th>city</th>\n",
       "      <th>state</th>\n",
       "      <th>country</th>\n",
       "      <th>total_tweets</th>\n",
       "      <th>filtered_tweets</th>\n",
       "      <th>percentage</th>\n",
       "    </tr>\n",
       "  </thead>\n",
       "  <tbody>\n",
       "  </tbody>\n",
       "</table>\n",
       "</div>"
      ],
      "text/plain": [
       "Empty DataFrame\n",
       "Columns: [city, state, country, total_tweets, filtered_tweets, percentage]\n",
       "Index: []"
      ]
     },
     "execution_count": 116,
     "metadata": {},
     "output_type": "execute_result"
    }
   ],
   "source": [
    "final_df[final_df['percentage'] > 100]"
   ]
  },
  {
   "cell_type": "code",
   "execution_count": 117,
   "metadata": {},
   "outputs": [
    {
     "data": {
      "text/html": [
       "<div>\n",
       "<style scoped>\n",
       "    .dataframe tbody tr th:only-of-type {\n",
       "        vertical-align: middle;\n",
       "    }\n",
       "\n",
       "    .dataframe tbody tr th {\n",
       "        vertical-align: top;\n",
       "    }\n",
       "\n",
       "    .dataframe thead th {\n",
       "        text-align: right;\n",
       "    }\n",
       "</style>\n",
       "<table border=\"1\" class=\"dataframe\">\n",
       "  <thead>\n",
       "    <tr style=\"text-align: right;\">\n",
       "      <th></th>\n",
       "      <th>Tweet_ID</th>\n",
       "      <th>Message</th>\n",
       "      <th>Date_Posted</th>\n",
       "      <th>Language</th>\n",
       "      <th>Gender</th>\n",
       "      <th>Coordinates_From_Metadata_or_Carmen</th>\n",
       "      <th>Latitude</th>\n",
       "      <th>Longitude</th>\n",
       "      <th>City</th>\n",
       "      <th>State</th>\n",
       "      <th>Country</th>\n",
       "    </tr>\n",
       "  </thead>\n",
       "  <tbody>\n",
       "    <tr>\n",
       "      <th>15494</th>\n",
       "      <td>696533846725033984</td>\n",
       "      <td>My little cousin SCREAM he a boy because he sa...</td>\n",
       "      <td>2016-02-08T03:19:44.000Z</td>\n",
       "      <td>en</td>\n",
       "      <td>M</td>\n",
       "      <td>c</td>\n",
       "      <td>38.015825</td>\n",
       "      <td>-121.819699</td>\n",
       "      <td>Antioch</td>\n",
       "      <td>California</td>\n",
       "      <td>United States</td>\n",
       "    </tr>\n",
       "  </tbody>\n",
       "</table>\n",
       "</div>"
      ],
      "text/plain": [
       "                 Tweet_ID                                            Message  \\\n",
       "15494  696533846725033984  My little cousin SCREAM he a boy because he sa...   \n",
       "\n",
       "                    Date_Posted Language Gender  \\\n",
       "15494  2016-02-08T03:19:44.000Z       en      M   \n",
       "\n",
       "      Coordinates_From_Metadata_or_Carmen   Latitude    Longitude     City  \\\n",
       "15494                                   c  38.015825  -121.819699  Antioch   \n",
       "\n",
       "            State        Country  \n",
       "15494  California  United States  "
      ]
     },
     "execution_count": 117,
     "metadata": {},
     "output_type": "execute_result"
    }
   ],
   "source": [
    "df[df['City'] == 'Antioch']"
   ]
  },
  {
   "cell_type": "code",
   "execution_count": 118,
   "metadata": {},
   "outputs": [
    {
     "data": {
      "text/html": [
       "<div>\n",
       "<style scoped>\n",
       "    .dataframe tbody tr th:only-of-type {\n",
       "        vertical-align: middle;\n",
       "    }\n",
       "\n",
       "    .dataframe tbody tr th {\n",
       "        vertical-align: top;\n",
       "    }\n",
       "\n",
       "    .dataframe thead th {\n",
       "        text-align: right;\n",
       "    }\n",
       "</style>\n",
       "<table border=\"1\" class=\"dataframe\">\n",
       "  <thead>\n",
       "    <tr style=\"text-align: right;\">\n",
       "      <th></th>\n",
       "      <th>Tweet_ID</th>\n",
       "      <th>Message</th>\n",
       "      <th>Date_Posted</th>\n",
       "      <th>Language</th>\n",
       "      <th>Gender</th>\n",
       "      <th>Coordinates_From_Metadata_or_Carmen</th>\n",
       "      <th>Latitude</th>\n",
       "      <th>Longitude</th>\n",
       "      <th>City</th>\n",
       "      <th>State</th>\n",
       "      <th>Country</th>\n",
       "    </tr>\n",
       "  </thead>\n",
       "  <tbody>\n",
       "    <tr>\n",
       "      <th>173</th>\n",
       "      <td>696533846725033984</td>\n",
       "      <td>My little cousin SCREAM he a boy because he sa...</td>\n",
       "      <td>2016-02-08T03:19:44.000Z</td>\n",
       "      <td>en</td>\n",
       "      <td>M</td>\n",
       "      <td>c</td>\n",
       "      <td>38.015825</td>\n",
       "      <td>-121.819699</td>\n",
       "      <td>Antioch</td>\n",
       "      <td>California</td>\n",
       "      <td>United States</td>\n",
       "    </tr>\n",
       "  </tbody>\n",
       "</table>\n",
       "</div>"
      ],
      "text/plain": [
       "               Tweet_ID                                            Message  \\\n",
       "173  696533846725033984  My little cousin SCREAM he a boy because he sa...   \n",
       "\n",
       "                  Date_Posted Language Gender  \\\n",
       "173  2016-02-08T03:19:44.000Z       en      M   \n",
       "\n",
       "    Coordinates_From_Metadata_or_Carmen   Latitude    Longitude     City  \\\n",
       "173                                   c  38.015825  -121.819699  Antioch   \n",
       "\n",
       "          State        Country  \n",
       "173  California  United States  "
      ]
     },
     "execution_count": 118,
     "metadata": {},
     "output_type": "execute_result"
    }
   ],
   "source": [
    "filtered_df[filtered_df['City'] == 'Antioch']"
   ]
  },
  {
   "cell_type": "code",
   "execution_count": null,
   "metadata": {},
   "outputs": [],
   "source": []
  }
 ],
 "metadata": {
  "kernelspec": {
   "display_name": "Python 3",
   "language": "python",
   "name": "python3"
  },
  "language_info": {
   "codemirror_mode": {
    "name": "ipython",
    "version": 3
   },
   "file_extension": ".py",
   "mimetype": "text/x-python",
   "name": "python",
   "nbconvert_exporter": "python",
   "pygments_lexer": "ipython3",
   "version": "3.7.2"
  }
 },
 "nbformat": 4,
 "nbformat_minor": 2
}
