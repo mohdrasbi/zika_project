{
 "cells": [
  {
   "cell_type": "code",
   "execution_count": 3,
   "metadata": {},
   "outputs": [],
   "source": [
    "import stanfordnlp"
   ]
  },
  {
   "cell_type": "code",
   "execution_count": 4,
   "metadata": {
    "scrolled": true
   },
   "outputs": [],
   "source": [
    "# stanfordnlp.download(\"en\")\n",
    "# stanfordnlp.download(\"es\")\n",
    "# stanfordnlp.download(\"pt\")"
   ]
  },
  {
   "cell_type": "code",
   "execution_count": 5,
   "metadata": {
    "scrolled": false
   },
   "outputs": [
    {
     "name": "stdout",
     "output_type": "stream",
     "text": [
      "Use device: cpu\n",
      "---\n",
      "Loading: tokenize\n",
      "With settings: \n",
      "{'model_path': '/Users/mohd/stanfordnlp_resources/en_ewt_models/en_ewt_tokenizer.pt', 'lang': 'en', 'shorthand': 'en_ewt', 'mode': 'predict'}\n",
      "---\n",
      "Loading: pos\n",
      "With settings: \n",
      "{'model_path': '/Users/mohd/stanfordnlp_resources/en_ewt_models/en_ewt_tagger.pt', 'pretrain_path': '/Users/mohd/stanfordnlp_resources/en_ewt_models/en_ewt.pretrain.pt', 'lang': 'en', 'shorthand': 'en_ewt', 'mode': 'predict'}\n",
      "Done loading processors!\n",
      "---\n"
     ]
    }
   ],
   "source": [
    "s = \"Do you understand toxicity categories for insect repellents? If you need an explanation read this article: https://t.co/kY26H6AnwK #Zika\"\n",
    "nlp = stanfordnlp.Pipeline(processors=\"tokenize,pos\")\n",
    "doc = nlp(s)"
   ]
  },
  {
   "cell_type": "code",
   "execution_count": 15,
   "metadata": {},
   "outputs": [
    {
     "name": "stdout",
     "output_type": "stream",
     "text": [
      "word: Do \tupos: AUX\txpos: VBP\n",
      "word: you \tupos: PRON\txpos: PRP\n",
      "word: understand \tupos: VERB\txpos: VB\n",
      "word: toxicity \tupos: NOUN\txpos: NN\n",
      "word: categories \tupos: NOUN\txpos: NNS\n",
      "word: for \tupos: ADP\txpos: IN\n",
      "word: insect \tupos: NOUN\txpos: NN\n",
      "word: repellents \tupos: NOUN\txpos: NNS\n",
      "word: ? \tupos: PUNCT\txpos: .\n",
      "word: If \tupos: SCONJ\txpos: IN\n",
      "word: you \tupos: PRON\txpos: PRP\n",
      "word: need \tupos: VERB\txpos: VBP\n",
      "word: an \tupos: DET\txpos: DT\n",
      "word: explanation \tupos: NOUN\txpos: NN\n",
      "word: read \tupos: VERB\txpos: VB\n",
      "word: this \tupos: DET\txpos: DT\n",
      "word: article \tupos: NOUN\txpos: NN\n",
      "word: : \tupos: PUNCT\txpos: :\n",
      "word: https://t.co/kY26H6AnwK \tupos: X\txpos: ADD\n",
      "word: # \tupos: NOUN\txpos: NN\n",
      "word: Zika \tupos: PROPN\txpos: NNP\n"
     ]
    }
   ],
   "source": [
    "print(*[f'word: {word.text+\" \"}\\tupos: {word.upos}\\txpos: {word.xpos}' for sent in doc.sentences for word in sent.words], sep='\\n')"
   ]
  },
  {
   "cell_type": "code",
   "execution_count": 20,
   "metadata": {},
   "outputs": [
    {
     "name": "stdout",
     "output_type": "stream",
     "text": [
      "Use device: cpu\n",
      "---\n",
      "Loading: tokenize\n",
      "With settings: \n",
      "{'model_path': '/Users/mohd/stanfordnlp_resources/es_ancora_models/es_ancora_tokenizer.pt', 'lang': 'es', 'shorthand': 'es_ancora', 'mode': 'predict'}\n",
      "---\n",
      "Loading: pos\n",
      "With settings: \n",
      "{'model_path': '/Users/mohd/stanfordnlp_resources/es_ancora_models/es_ancora_tagger.pt', 'pretrain_path': '/Users/mohd/stanfordnlp_resources/es_ancora_models/es_ancora.pretrain.pt', 'lang': 'es', 'shorthand': 'es_ancora', 'mode': 'predict'}\n",
      "Done loading processors!\n",
      "---\n"
     ]
    }
   ],
   "source": [
    "s = \"¿Entiendes las categorías de toxicidad para repelentes de insectos?\"\n",
    "nlp = stanfordnlp.Pipeline(processors=\"tokenize,pos\", lang=\"es\")\n",
    "doc = nlp(s)"
   ]
  },
  {
   "cell_type": "code",
   "execution_count": 21,
   "metadata": {
    "scrolled": true
   },
   "outputs": [
    {
     "name": "stdout",
     "output_type": "stream",
     "text": [
      "word: ¿ \tupos: PUNCT\txpos: PUNCT\n",
      "word: Entiendes \tupos: VERB\txpos: VERB\n",
      "word: las \tupos: DET\txpos: DET\n",
      "word: categorías \tupos: NOUN\txpos: NOUN\n",
      "word: de \tupos: ADP\txpos: ADP\n",
      "word: toxicidad \tupos: NOUN\txpos: NOUN\n",
      "word: para \tupos: ADP\txpos: ADP\n",
      "word: repelentes \tupos: NOUN\txpos: NOUN\n",
      "word: de \tupos: ADP\txpos: ADP\n",
      "word: insectos \tupos: NOUN\txpos: NOUN\n",
      "word: ? \tupos: PUNCT\txpos: PUNCT\n"
     ]
    }
   ],
   "source": [
    "print(*[f'word: {word.text+\" \"}\\tupos: {word.upos}\\txpos: {word.xpos}' for sent in doc.sentences for word in sent.words], sep='\\n')"
   ]
  },
  {
   "cell_type": "code",
   "execution_count": 22,
   "metadata": {},
   "outputs": [
    {
     "name": "stdout",
     "output_type": "stream",
     "text": [
      "Use device: cpu\n",
      "---\n",
      "Loading: tokenize\n",
      "With settings: \n",
      "{'model_path': '/Users/mohd/stanfordnlp_resources/pt_bosque_models/pt_bosque_tokenizer.pt', 'lang': 'pt', 'shorthand': 'pt_bosque', 'mode': 'predict'}\n",
      "---\n",
      "Loading: pos\n",
      "With settings: \n",
      "{'model_path': '/Users/mohd/stanfordnlp_resources/pt_bosque_models/pt_bosque_tagger.pt', 'pretrain_path': '/Users/mohd/stanfordnlp_resources/pt_bosque_models/pt_bosque.pretrain.pt', 'lang': 'pt', 'shorthand': 'pt_bosque', 'mode': 'predict'}\n",
      "Done loading processors!\n",
      "---\n"
     ]
    }
   ],
   "source": [
    "s = \"Você entende as categorias de toxicidade para repelentes de insetos?\"\n",
    "nlp = stanfordnlp.Pipeline(processors=\"tokenize,pos\", lang=\"pt\")\n",
    "doc = nlp(s)"
   ]
  },
  {
   "cell_type": "code",
   "execution_count": 23,
   "metadata": {},
   "outputs": [
    {
     "name": "stdout",
     "output_type": "stream",
     "text": [
      "word: Você \tupos: PRON\txpos: _\n",
      "word: entende \tupos: VERB\txpos: _\n",
      "word: as \tupos: DET\txpos: _\n",
      "word: categorias \tupos: NOUN\txpos: _\n",
      "word: de \tupos: ADP\txpos: _\n",
      "word: toxicidade \tupos: NOUN\txpos: _\n",
      "word: para \tupos: ADP\txpos: _\n",
      "word: repelentes \tupos: NOUN\txpos: _\n",
      "word: de \tupos: ADP\txpos: _\n",
      "word: insetos \tupos: NOUN\txpos: _\n",
      "word: ? \tupos: PUNCT\txpos: _\n"
     ]
    }
   ],
   "source": [
    "print(*[f'word: {word.text+\" \"}\\tupos: {word.upos}\\txpos: {word.xpos}' for sent in doc.sentences for word in sent.words], sep='\\n')"
   ]
  }
 ],
 "metadata": {
  "kernelspec": {
   "display_name": "Python 3",
   "language": "python",
   "name": "python3"
  },
  "language_info": {
   "codemirror_mode": {
    "name": "ipython",
    "version": 3
   },
   "file_extension": ".py",
   "mimetype": "text/x-python",
   "name": "python",
   "nbconvert_exporter": "python",
   "pygments_lexer": "ipython3",
   "version": "3.7.2"
  }
 },
 "nbformat": 4,
 "nbformat_minor": 2
}
